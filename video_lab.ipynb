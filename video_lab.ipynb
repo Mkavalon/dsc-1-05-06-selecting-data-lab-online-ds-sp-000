{
 "cells": [
  {
   "cell_type": "markdown",
   "metadata": {},
   "source": [
    "Selecting Data - Lab\n",
    "Introduction\n",
    "NASA wants to go to Mars! Before they build their rocket, NASA needs to track information about all of the planets in the Solar System. Use SQL to help NASA create, alter, and insert data into a database that stores all of this important information. Then practice querying the database with various SELECT statements. We will select different columns, and employ other SQL clauses like WHERE to return the data we would like.\n",
    "\n",
    "solar_system\n",
    "\n",
    "Objectives\n",
    "You will be able to:\n",
    "\n",
    "Retrieve all the information from a table\n",
    "Retrieve a subset of records from a table using a WHERE clause\n",
    "Retrieve a subset of columns from a table\n",
    "Instructions\n",
    "Note, in this lesson the workflow will be a little different that usual. Instead of just editing your Jupyter Notebook, you're also going to have to use a text editor to put some SQL statements into a number of separate text files.\n",
    "\n",
    "**We're doing that (a) because it makes it easier for us to be able to write and run automated tests to \"check your work\", and (b) because as you start working on more complex projects, you'll often find yourself working with not just a Jupyter Notebook, but also some text files. For example, when you start to write your own re-usable code for cleaning up data you might well decide to create some Python files that you can access from and share between different Notebooks. **\n",
    "\n",
    "Part 1: Table setup\n",
    "Create a table\n",
    "Start by opening up the create.sql file in this directory in a text editor (not Jupyter Notebook). Write the necessary SQL in there to create a table using the CREATE TABLE command. Call the table planets. Save the file.\n",
    "\n",
    "Remember: your create table statement should be formatted like the following:"
   ]
  },
  {
   "cell_type": "code",
   "execution_count": 5,
   "metadata": {},
   "outputs": [],
   "source": [
    "\n",
    "\n"
   ]
  },
  {
   "cell_type": "code",
   "execution_count": null,
   "metadata": {},
   "outputs": [],
   "source": [
    "CREATE TABLE table_name (\n",
    "   # column_names and data types here\n",
    ");"
   ]
  },
  {
   "cell_type": "markdown",
   "metadata": {},
   "source": [
    "NASA is interested in comparing each planet across several characteristics. They want to know each planet's name, color, number of moons, and mass (relative to earth). Your columns should be the following types:\n",
    "\n",
    "column\ttype\n",
    "id\tinteger\n",
    "name\ttext\n",
    "color\ttext\n",
    "num_of_moons\tinteger\n",
    "mass\treal\n",
    "Notes: Make sure to set the id column as the table's primary key.\n",
    "\n",
    "Now, create a sqlite database (lets call it planets.db), connect to it, and run the SQL from the create.sql file by reading it in and then executing it.\n",
    "\n",
    "*Open up the hints.md file in this directory and look at hint # 1 if you need some help getting the database initialized and hint # 2 if you need some help figuring out how to read in the contents of the file *"
   ]
  },
  {
   "cell_type": "code",
   "execution_count": 6,
   "metadata": {},
   "outputs": [
    {
     "ename": "FileNotFoundError",
     "evalue": "[Errno 2] No such file or directory: 'create.sql'",
     "output_type": "error",
     "traceback": [
      "\u001b[0;31m---------------------------------------------------------------------------\u001b[0m",
      "\u001b[0;31mFileNotFoundError\u001b[0m                         Traceback (most recent call last)",
      "\u001b[0;32m<ipython-input-6-83ecdb5d9cc5>\u001b[0m in \u001b[0;36m<module>\u001b[0;34m()\u001b[0m\n\u001b[1;32m      2\u001b[0m \u001b[0;34m\u001b[0m\u001b[0m\n\u001b[1;32m      3\u001b[0m \u001b[0;31m# Read in the contents of the create.sql file\u001b[0m\u001b[0;34m\u001b[0m\u001b[0;34m\u001b[0m\u001b[0m\n\u001b[0;32m----> 4\u001b[0;31m \u001b[0msql\u001b[0m \u001b[0;34m=\u001b[0m \u001b[0mopen\u001b[0m\u001b[0;34m(\u001b[0m\u001b[0;34m'create.sql'\u001b[0m\u001b[0;34m,\u001b[0m \u001b[0;34m'r'\u001b[0m\u001b[0;34m)\u001b[0m\u001b[0;34m.\u001b[0m\u001b[0mread\u001b[0m\u001b[0;34m\u001b[0m\u001b[0m\n\u001b[0m\u001b[1;32m      5\u001b[0m \u001b[0;31m# Execute that SQL against your database\u001b[0m\u001b[0;34m\u001b[0m\u001b[0;34m\u001b[0m\u001b[0m\n\u001b[1;32m      6\u001b[0m \u001b[0mcur\u001b[0m\u001b[0;34m.\u001b[0m\u001b[0mexecute\u001b[0m\u001b[0;34m(\u001b[0m\u001b[0msql\u001b[0m\u001b[0;34m)\u001b[0m\u001b[0;34m\u001b[0m\u001b[0m\n",
      "\u001b[0;31mFileNotFoundError\u001b[0m: [Errno 2] No such file or directory: 'create.sql'"
     ]
    }
   ],
   "source": [
    "# import sqlite3\n",
    "# Create the SQL database and connect to it\n",
    "# conn = sqlite3.connect('planets.db')\n",
    "# cur = conn.cursor() \n",
    "# Read in the contents of the create.sql file\n",
    "sql = open('create.sql', 'r').read\n",
    "# Execute that SQL against your database\n",
    "cur.execute(sql)"
   ]
  },
  {
   "cell_type": "markdown",
   "metadata": {},
   "source": [
    "Alter the table\n",
    "NASA notices that several of the planets have rings around them. However, we do not have a column to keep track of this information. Open up alter.sql in a text editor, and write and save your SQL to use the ALTER TABLE statement to add a column called rings with a data type of boolean to the planets table. Write the code below to read in and execute that SQL against your database."
   ]
  },
  {
   "cell_type": "code",
   "execution_count": null,
   "metadata": {},
   "outputs": [],
   "source": [
    "# Your code for reading and executing alter.sql"
   ]
  },
  {
   "cell_type": "code",
   "execution_count": null,
   "metadata": {},
   "outputs": [],
   "source": []
  },
  {
   "cell_type": "code",
   "execution_count": null,
   "metadata": {},
   "outputs": [],
   "source": []
  }
 ],
 "metadata": {
  "kernelspec": {
   "display_name": "learn-env",
   "language": "python",
   "name": "learn-env"
  },
  "language_info": {
   "codemirror_mode": {
    "name": "ipython",
    "version": 3
   },
   "file_extension": ".py",
   "mimetype": "text/x-python",
   "name": "python",
   "nbconvert_exporter": "python",
   "pygments_lexer": "ipython3",
   "version": "3.7.0"
  }
 },
 "nbformat": 4,
 "nbformat_minor": 2
}
